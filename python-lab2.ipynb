{
 "cells": [
  {
   "cell_type": "code",
   "execution_count": 7,
   "id": "de9b2686",
   "metadata": {},
   "outputs": [],
   "source": [
    "movie = \"moveies\""
   ]
  },
  {
   "cell_type": "code",
   "execution_count": 8,
   "id": "196337b7",
   "metadata": {},
   "outputs": [],
   "source": [
    "movie_rate = 3"
   ]
  },
  {
   "cell_type": "code",
   "execution_count": 9,
   "id": "8d310e1f",
   "metadata": {},
   "outputs": [],
   "source": [
    "score = 72.65"
   ]
  },
  {
   "cell_type": "code",
   "execution_count": 13,
   "id": "1931ff78",
   "metadata": {},
   "outputs": [
    {
     "name": "stdout",
     "output_type": "stream",
     "text": [
      "I recommended it, It is good\n"
     ]
    }
   ],
   "source": [
    "if ((movie_rate >= 4) and (score > 80)):\n",
    "    print (\"Highly recommended\")\n",
    "elif ((movie_rate >= 3)and (score > 70)): \n",
    "    print (\"I recommended it, It is good\")\n",
    "elif ((movie_rate >= 2)and (score > 60)): \n",
    "    print (\"You should check it out!\")\n",
    "else :\n",
    "    print(\"Don't watch it, It is a waste of time\")"
   ]
  },
  {
   "cell_type": "code",
   "execution_count": null,
   "id": "b78771a5",
   "metadata": {},
   "outputs": [],
   "source": []
  }
 ],
 "metadata": {
  "kernelspec": {
   "display_name": "Python 3 (ipykernel)",
   "language": "python",
   "name": "python3"
  },
  "language_info": {
   "codemirror_mode": {
    "name": "ipython",
    "version": 3
   },
   "file_extension": ".py",
   "mimetype": "text/x-python",
   "name": "python",
   "nbconvert_exporter": "python",
   "pygments_lexer": "ipython3",
   "version": "3.10.9"
  }
 },
 "nbformat": 4,
 "nbformat_minor": 5
}
